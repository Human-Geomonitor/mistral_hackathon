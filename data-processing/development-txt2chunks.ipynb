{
 "cells": [
  {
   "cell_type": "markdown",
   "metadata": {},
   "source": [
    "# Chunking\n",
    "\n",
    "Source : [Notebook](https://github.com/FullStackRetrieval-com/RetrievalTutorials/blob/main/tutorials/LevelsOfTextSplitting/5_Levels_Of_Text_Splitting.ipynb)"
   ]
  },
  {
   "cell_type": "code",
   "execution_count": 2,
   "metadata": {},
   "outputs": [
    {
     "name": "stdout",
     "output_type": "stream",
     "text": [
      "Defaulting to user installation because normal site-packages is not writeable\n",
      "Requirement already satisfied: ipykernel in /opt/anaconda3/envs/llm-pipeline/lib/python3.9/site-packages (from -r ../env/requirements.txt (line 1)) (6.29.4)\n",
      "Requirement already satisfied: requests in /Users/davidgerard/.local/lib/python3.9/site-packages (from -r ../env/requirements.txt (line 2)) (2.32.3)\n",
      "Requirement already satisfied: pandas in /Users/davidgerard/.local/lib/python3.9/site-packages (from -r ../env/requirements.txt (line 3)) (2.2.2)\n",
      "Requirement already satisfied: numpy in /Users/davidgerard/.local/lib/python3.9/site-packages (from -r ../env/requirements.txt (line 4)) (1.26.4)\n",
      "Requirement already satisfied: matplotlib in /Users/davidgerard/.local/lib/python3.9/site-packages (from -r ../env/requirements.txt (line 5)) (3.9.0)\n",
      "Requirement already satisfied: setuptools in /opt/anaconda3/envs/llm-pipeline/lib/python3.9/site-packages (from -r ../env/requirements.txt (line 7)) (70.0.0)\n",
      "Requirement already satisfied: pydtm in /Users/davidgerard/Desktop/Human-Geomonitor/PyDTM/src (from -r ../env/requirements.txt (line 8)) (0.0.9)\n",
      "Requirement already satisfied: PyPDF2 in /opt/anaconda3/envs/llm-pipeline/lib/python3.9/site-packages (from -r ../env/requirements.txt (line 9)) (3.0.1)\n",
      "Requirement already satisfied: pymupdf4llm in /Users/davidgerard/.local/lib/python3.9/site-packages (from -r ../env/requirements.txt (line 10)) (0.0.5)\n",
      "Requirement already satisfied: langchain in /Users/davidgerard/.local/lib/python3.9/site-packages (from -r ../env/requirements.txt (line 11)) (0.2.5)\n",
      "Collecting langchain-community (from -r ../env/requirements.txt (line 12))\n",
      "  Downloading langchain_community-0.2.5-py3-none-any.whl.metadata (2.5 kB)\n",
      "Requirement already satisfied: bs4 in /Users/davidgerard/.local/lib/python3.9/site-packages (from -r ../env/requirements.txt (line 13)) (0.0.2)\n",
      "Requirement already satisfied: appnope in /opt/anaconda3/envs/llm-pipeline/lib/python3.9/site-packages (from ipykernel->-r ../env/requirements.txt (line 1)) (0.1.4)\n",
      "Requirement already satisfied: comm>=0.1.1 in /opt/anaconda3/envs/llm-pipeline/lib/python3.9/site-packages (from ipykernel->-r ../env/requirements.txt (line 1)) (0.2.2)\n",
      "Requirement already satisfied: debugpy>=1.6.5 in /opt/anaconda3/envs/llm-pipeline/lib/python3.9/site-packages (from ipykernel->-r ../env/requirements.txt (line 1)) (1.8.1)\n",
      "Requirement already satisfied: ipython>=7.23.1 in /opt/anaconda3/envs/llm-pipeline/lib/python3.9/site-packages (from ipykernel->-r ../env/requirements.txt (line 1)) (8.18.1)\n",
      "Requirement already satisfied: jupyter-client>=6.1.12 in /opt/anaconda3/envs/llm-pipeline/lib/python3.9/site-packages (from ipykernel->-r ../env/requirements.txt (line 1)) (8.6.2)\n",
      "Requirement already satisfied: jupyter-core!=5.0.*,>=4.12 in /opt/anaconda3/envs/llm-pipeline/lib/python3.9/site-packages (from ipykernel->-r ../env/requirements.txt (line 1)) (5.7.2)\n",
      "Requirement already satisfied: matplotlib-inline>=0.1 in /opt/anaconda3/envs/llm-pipeline/lib/python3.9/site-packages (from ipykernel->-r ../env/requirements.txt (line 1)) (0.1.7)\n",
      "Requirement already satisfied: nest-asyncio in /opt/anaconda3/envs/llm-pipeline/lib/python3.9/site-packages (from ipykernel->-r ../env/requirements.txt (line 1)) (1.6.0)\n",
      "Requirement already satisfied: packaging in /opt/anaconda3/envs/llm-pipeline/lib/python3.9/site-packages (from ipykernel->-r ../env/requirements.txt (line 1)) (24.1)\n",
      "Requirement already satisfied: psutil in /opt/anaconda3/envs/llm-pipeline/lib/python3.9/site-packages (from ipykernel->-r ../env/requirements.txt (line 1)) (5.9.8)\n",
      "Requirement already satisfied: pyzmq>=24 in /opt/anaconda3/envs/llm-pipeline/lib/python3.9/site-packages (from ipykernel->-r ../env/requirements.txt (line 1)) (26.0.3)\n",
      "Requirement already satisfied: tornado>=6.1 in /opt/anaconda3/envs/llm-pipeline/lib/python3.9/site-packages (from ipykernel->-r ../env/requirements.txt (line 1)) (6.4.1)\n",
      "Requirement already satisfied: traitlets>=5.4.0 in /opt/anaconda3/envs/llm-pipeline/lib/python3.9/site-packages (from ipykernel->-r ../env/requirements.txt (line 1)) (5.14.3)\n",
      "Requirement already satisfied: charset-normalizer<4,>=2 in /Users/davidgerard/.local/lib/python3.9/site-packages (from requests->-r ../env/requirements.txt (line 2)) (3.3.2)\n",
      "Requirement already satisfied: idna<4,>=2.5 in /Users/davidgerard/.local/lib/python3.9/site-packages (from requests->-r ../env/requirements.txt (line 2)) (3.7)\n",
      "Requirement already satisfied: urllib3<3,>=1.21.1 in /Users/davidgerard/.local/lib/python3.9/site-packages (from requests->-r ../env/requirements.txt (line 2)) (2.2.1)\n",
      "Requirement already satisfied: certifi>=2017.4.17 in /Users/davidgerard/.local/lib/python3.9/site-packages (from requests->-r ../env/requirements.txt (line 2)) (2024.6.2)\n",
      "Requirement already satisfied: python-dateutil>=2.8.2 in /opt/anaconda3/envs/llm-pipeline/lib/python3.9/site-packages (from pandas->-r ../env/requirements.txt (line 3)) (2.9.0.post0)\n",
      "Requirement already satisfied: pytz>=2020.1 in /Users/davidgerard/.local/lib/python3.9/site-packages (from pandas->-r ../env/requirements.txt (line 3)) (2023.3.post1)\n",
      "Requirement already satisfied: tzdata>=2022.7 in /Users/davidgerard/.local/lib/python3.9/site-packages (from pandas->-r ../env/requirements.txt (line 3)) (2023.3)\n",
      "Requirement already satisfied: contourpy>=1.0.1 in /Users/davidgerard/.local/lib/python3.9/site-packages (from matplotlib->-r ../env/requirements.txt (line 5)) (1.1.1)\n",
      "Requirement already satisfied: cycler>=0.10 in /Users/davidgerard/.local/lib/python3.9/site-packages (from matplotlib->-r ../env/requirements.txt (line 5)) (0.12.1)\n",
      "Requirement already satisfied: fonttools>=4.22.0 in /Users/davidgerard/.local/lib/python3.9/site-packages (from matplotlib->-r ../env/requirements.txt (line 5)) (4.43.1)\n",
      "Requirement already satisfied: kiwisolver>=1.3.1 in /Users/davidgerard/.local/lib/python3.9/site-packages (from matplotlib->-r ../env/requirements.txt (line 5)) (1.4.5)\n",
      "Requirement already satisfied: pillow>=8 in /Users/davidgerard/.local/lib/python3.9/site-packages (from matplotlib->-r ../env/requirements.txt (line 5)) (10.3.0)\n",
      "Requirement already satisfied: pyparsing>=2.3.1 in /Users/davidgerard/.local/lib/python3.9/site-packages (from matplotlib->-r ../env/requirements.txt (line 5)) (3.1.1)\n",
      "Requirement already satisfied: importlib-resources>=3.2.0 in /Users/davidgerard/.local/lib/python3.9/site-packages (from matplotlib->-r ../env/requirements.txt (line 5)) (6.1.0)\n",
      "Requirement already satisfied: typing_extensions>=3.10.0.0 in /opt/anaconda3/envs/llm-pipeline/lib/python3.9/site-packages (from PyPDF2->-r ../env/requirements.txt (line 9)) (4.12.2)\n",
      "Requirement already satisfied: pymupdf>=1.24.2 in /Users/davidgerard/.local/lib/python3.9/site-packages (from pymupdf4llm->-r ../env/requirements.txt (line 10)) (1.24.5)\n",
      "Requirement already satisfied: PyYAML>=5.3 in /Users/davidgerard/.local/lib/python3.9/site-packages (from langchain->-r ../env/requirements.txt (line 11)) (6.0.1)\n",
      "Requirement already satisfied: SQLAlchemy<3,>=1.4 in /Users/davidgerard/.local/lib/python3.9/site-packages (from langchain->-r ../env/requirements.txt (line 11)) (2.0.30)\n",
      "Requirement already satisfied: aiohttp<4.0.0,>=3.8.3 in /Users/davidgerard/.local/lib/python3.9/site-packages (from langchain->-r ../env/requirements.txt (line 11)) (3.9.5)\n",
      "Requirement already satisfied: async-timeout<5.0.0,>=4.0.0 in /Users/davidgerard/.local/lib/python3.9/site-packages (from langchain->-r ../env/requirements.txt (line 11)) (4.0.3)\n",
      "Requirement already satisfied: langchain-core<0.3.0,>=0.2.7 in /Users/davidgerard/.local/lib/python3.9/site-packages (from langchain->-r ../env/requirements.txt (line 11)) (0.2.7)\n",
      "Requirement already satisfied: langchain-text-splitters<0.3.0,>=0.2.0 in /Users/davidgerard/.local/lib/python3.9/site-packages (from langchain->-r ../env/requirements.txt (line 11)) (0.2.1)\n",
      "Requirement already satisfied: langsmith<0.2.0,>=0.1.17 in /Users/davidgerard/.local/lib/python3.9/site-packages (from langchain->-r ../env/requirements.txt (line 11)) (0.1.77)\n",
      "Requirement already satisfied: pydantic<3,>=1 in /Users/davidgerard/.local/lib/python3.9/site-packages (from langchain->-r ../env/requirements.txt (line 11)) (2.7.4)\n",
      "Requirement already satisfied: tenacity<9.0.0,>=8.1.0 in /Users/davidgerard/.local/lib/python3.9/site-packages (from langchain->-r ../env/requirements.txt (line 11)) (8.3.0)\n",
      "Collecting dataclasses-json<0.7,>=0.5.7 (from langchain-community->-r ../env/requirements.txt (line 12))\n",
      "  Downloading dataclasses_json-0.6.7-py3-none-any.whl.metadata (25 kB)\n",
      "Requirement already satisfied: beautifulsoup4 in /Users/davidgerard/.local/lib/python3.9/site-packages (from bs4->-r ../env/requirements.txt (line 13)) (4.12.3)\n",
      "Requirement already satisfied: aiosignal>=1.1.2 in /Users/davidgerard/.local/lib/python3.9/site-packages (from aiohttp<4.0.0,>=3.8.3->langchain->-r ../env/requirements.txt (line 11)) (1.3.1)\n",
      "Requirement already satisfied: attrs>=17.3.0 in /Users/davidgerard/.local/lib/python3.9/site-packages (from aiohttp<4.0.0,>=3.8.3->langchain->-r ../env/requirements.txt (line 11)) (23.2.0)\n",
      "Requirement already satisfied: frozenlist>=1.1.1 in /Users/davidgerard/.local/lib/python3.9/site-packages (from aiohttp<4.0.0,>=3.8.3->langchain->-r ../env/requirements.txt (line 11)) (1.4.1)\n",
      "Requirement already satisfied: multidict<7.0,>=4.5 in /Users/davidgerard/.local/lib/python3.9/site-packages (from aiohttp<4.0.0,>=3.8.3->langchain->-r ../env/requirements.txt (line 11)) (6.0.5)\n",
      "Requirement already satisfied: yarl<2.0,>=1.0 in /Users/davidgerard/.local/lib/python3.9/site-packages (from aiohttp<4.0.0,>=3.8.3->langchain->-r ../env/requirements.txt (line 11)) (1.9.4)\n",
      "Collecting marshmallow<4.0.0,>=3.18.0 (from dataclasses-json<0.7,>=0.5.7->langchain-community->-r ../env/requirements.txt (line 12))\n",
      "  Downloading marshmallow-3.21.3-py3-none-any.whl.metadata (7.1 kB)\n",
      "Collecting typing-inspect<1,>=0.4.0 (from dataclasses-json<0.7,>=0.5.7->langchain-community->-r ../env/requirements.txt (line 12))\n",
      "  Downloading typing_inspect-0.9.0-py3-none-any.whl.metadata (1.5 kB)\n",
      "Requirement already satisfied: zipp>=3.1.0 in /opt/anaconda3/envs/llm-pipeline/lib/python3.9/site-packages (from importlib-resources>=3.2.0->matplotlib->-r ../env/requirements.txt (line 5)) (3.19.2)\n",
      "Requirement already satisfied: decorator in /opt/anaconda3/envs/llm-pipeline/lib/python3.9/site-packages (from ipython>=7.23.1->ipykernel->-r ../env/requirements.txt (line 1)) (5.1.1)\n",
      "Requirement already satisfied: jedi>=0.16 in /opt/anaconda3/envs/llm-pipeline/lib/python3.9/site-packages (from ipython>=7.23.1->ipykernel->-r ../env/requirements.txt (line 1)) (0.19.1)\n",
      "Requirement already satisfied: prompt-toolkit<3.1.0,>=3.0.41 in /opt/anaconda3/envs/llm-pipeline/lib/python3.9/site-packages (from ipython>=7.23.1->ipykernel->-r ../env/requirements.txt (line 1)) (3.0.47)\n",
      "Requirement already satisfied: pygments>=2.4.0 in /opt/anaconda3/envs/llm-pipeline/lib/python3.9/site-packages (from ipython>=7.23.1->ipykernel->-r ../env/requirements.txt (line 1)) (2.18.0)\n",
      "Requirement already satisfied: stack-data in /opt/anaconda3/envs/llm-pipeline/lib/python3.9/site-packages (from ipython>=7.23.1->ipykernel->-r ../env/requirements.txt (line 1)) (0.6.3)\n",
      "Requirement already satisfied: exceptiongroup in /opt/anaconda3/envs/llm-pipeline/lib/python3.9/site-packages (from ipython>=7.23.1->ipykernel->-r ../env/requirements.txt (line 1)) (1.2.1)\n",
      "Requirement already satisfied: pexpect>4.3 in /opt/anaconda3/envs/llm-pipeline/lib/python3.9/site-packages (from ipython>=7.23.1->ipykernel->-r ../env/requirements.txt (line 1)) (4.9.0)\n",
      "Requirement already satisfied: importlib-metadata>=4.8.3 in /opt/anaconda3/envs/llm-pipeline/lib/python3.9/site-packages (from jupyter-client>=6.1.12->ipykernel->-r ../env/requirements.txt (line 1)) (7.1.0)\n",
      "Requirement already satisfied: platformdirs>=2.5 in /opt/anaconda3/envs/llm-pipeline/lib/python3.9/site-packages (from jupyter-core!=5.0.*,>=4.12->ipykernel->-r ../env/requirements.txt (line 1)) (4.2.2)\n",
      "Requirement already satisfied: jsonpatch<2.0,>=1.33 in /Users/davidgerard/.local/lib/python3.9/site-packages (from langchain-core<0.3.0,>=0.2.7->langchain->-r ../env/requirements.txt (line 11)) (1.33)\n",
      "Requirement already satisfied: orjson<4.0.0,>=3.9.14 in /Users/davidgerard/.local/lib/python3.9/site-packages (from langsmith<0.2.0,>=0.1.17->langchain->-r ../env/requirements.txt (line 11)) (3.10.5)\n",
      "Requirement already satisfied: annotated-types>=0.4.0 in /Users/davidgerard/.local/lib/python3.9/site-packages (from pydantic<3,>=1->langchain->-r ../env/requirements.txt (line 11)) (0.7.0)\n",
      "Requirement already satisfied: pydantic-core==2.18.4 in /Users/davidgerard/.local/lib/python3.9/site-packages (from pydantic<3,>=1->langchain->-r ../env/requirements.txt (line 11)) (2.18.4)\n",
      "Requirement already satisfied: PyMuPDFb==1.24.3 in /Users/davidgerard/.local/lib/python3.9/site-packages (from pymupdf>=1.24.2->pymupdf4llm->-r ../env/requirements.txt (line 10)) (1.24.3)\n",
      "Requirement already satisfied: six>=1.5 in /opt/anaconda3/envs/llm-pipeline/lib/python3.9/site-packages (from python-dateutil>=2.8.2->pandas->-r ../env/requirements.txt (line 3)) (1.16.0)\n",
      "Requirement already satisfied: greenlet!=0.4.17 in /Users/davidgerard/.local/lib/python3.9/site-packages (from SQLAlchemy<3,>=1.4->langchain->-r ../env/requirements.txt (line 11)) (3.0.3)\n",
      "Requirement already satisfied: soupsieve>1.2 in /Users/davidgerard/.local/lib/python3.9/site-packages (from beautifulsoup4->bs4->-r ../env/requirements.txt (line 13)) (2.5)\n",
      "Requirement already satisfied: parso<0.9.0,>=0.8.3 in /opt/anaconda3/envs/llm-pipeline/lib/python3.9/site-packages (from jedi>=0.16->ipython>=7.23.1->ipykernel->-r ../env/requirements.txt (line 1)) (0.8.4)\n",
      "Requirement already satisfied: jsonpointer>=1.9 in /Users/davidgerard/.local/lib/python3.9/site-packages (from jsonpatch<2.0,>=1.33->langchain-core<0.3.0,>=0.2.7->langchain->-r ../env/requirements.txt (line 11)) (3.0.0)\n",
      "Requirement already satisfied: ptyprocess>=0.5 in /opt/anaconda3/envs/llm-pipeline/lib/python3.9/site-packages (from pexpect>4.3->ipython>=7.23.1->ipykernel->-r ../env/requirements.txt (line 1)) (0.7.0)\n",
      "Requirement already satisfied: wcwidth in /opt/anaconda3/envs/llm-pipeline/lib/python3.9/site-packages (from prompt-toolkit<3.1.0,>=3.0.41->ipython>=7.23.1->ipykernel->-r ../env/requirements.txt (line 1)) (0.2.13)\n",
      "Collecting mypy-extensions>=0.3.0 (from typing-inspect<1,>=0.4.0->dataclasses-json<0.7,>=0.5.7->langchain-community->-r ../env/requirements.txt (line 12))\n",
      "  Downloading mypy_extensions-1.0.0-py3-none-any.whl.metadata (1.1 kB)\n",
      "Requirement already satisfied: executing>=1.2.0 in /opt/anaconda3/envs/llm-pipeline/lib/python3.9/site-packages (from stack-data->ipython>=7.23.1->ipykernel->-r ../env/requirements.txt (line 1)) (2.0.1)\n",
      "Requirement already satisfied: asttokens>=2.1.0 in /opt/anaconda3/envs/llm-pipeline/lib/python3.9/site-packages (from stack-data->ipython>=7.23.1->ipykernel->-r ../env/requirements.txt (line 1)) (2.4.1)\n",
      "Requirement already satisfied: pure-eval in /opt/anaconda3/envs/llm-pipeline/lib/python3.9/site-packages (from stack-data->ipython>=7.23.1->ipykernel->-r ../env/requirements.txt (line 1)) (0.2.2)\n",
      "Downloading langchain_community-0.2.5-py3-none-any.whl (2.2 MB)\n",
      "\u001b[2K   \u001b[90m━━━━━━━━━━━━━━━━━━━━━━━━━━━━━━━━━━━━━━━━\u001b[0m \u001b[32m2.2/2.2 MB\u001b[0m \u001b[31m1.7 MB/s\u001b[0m eta \u001b[36m0:00:00\u001b[0m00:01\u001b[0m00:01\u001b[0m\n",
      "\u001b[?25hDownloading dataclasses_json-0.6.7-py3-none-any.whl (28 kB)\n",
      "Downloading marshmallow-3.21.3-py3-none-any.whl (49 kB)\n",
      "\u001b[2K   \u001b[90m━━━━━━━━━━━━━━━━━━━━━━━━━━━━━━━━━━━━━━━━\u001b[0m \u001b[32m49.2/49.2 kB\u001b[0m \u001b[31m4.8 MB/s\u001b[0m eta \u001b[36m0:00:00\u001b[0m\n",
      "\u001b[?25hDownloading typing_inspect-0.9.0-py3-none-any.whl (8.8 kB)\n",
      "Downloading mypy_extensions-1.0.0-py3-none-any.whl (4.7 kB)\n",
      "Installing collected packages: mypy-extensions, marshmallow, typing-inspect, dataclasses-json, langchain-community\n",
      "Successfully installed dataclasses-json-0.6.7 langchain-community-0.2.5 marshmallow-3.21.3 mypy-extensions-1.0.0 typing-inspect-0.9.0\n"
     ]
    }
   ],
   "source": [
    "!pip install -r ../env/requirements.txt"
   ]
  },
  {
   "cell_type": "markdown",
   "metadata": {},
   "source": [
    "## Level 5: Agentic Chunking"
   ]
  },
  {
   "cell_type": "code",
   "execution_count": 3,
   "metadata": {},
   "outputs": [],
   "source": [
    "from langchain.output_parsers.openai_tools import JsonOutputToolsParser\n",
    "from langchain_community.chat_models import ChatOpenAI\n",
    "from langchain_core.prompts import ChatPromptTemplate\n",
    "from langchain_core.runnables import RunnableLambda\n",
    "from langchain.chains import create_extraction_chain\n",
    "from typing import Optional, List\n",
    "from langchain.chains import create_extraction_chain_pydantic\n",
    "from langchain_core.pydantic_v1 import BaseModel\n",
    "from langchain import hub"
   ]
  },
  {
   "cell_type": "code",
   "execution_count": null,
   "metadata": {},
   "outputs": [],
   "source": []
  }
 ],
 "metadata": {
  "kernelspec": {
   "display_name": "Python 3",
   "language": "python",
   "name": "python3"
  },
  "language_info": {
   "codemirror_mode": {
    "name": "ipython",
    "version": 3
   },
   "file_extension": ".py",
   "mimetype": "text/x-python",
   "name": "python",
   "nbconvert_exporter": "python",
   "pygments_lexer": "ipython3",
   "version": "3.9.19"
  }
 },
 "nbformat": 4,
 "nbformat_minor": 4
}
